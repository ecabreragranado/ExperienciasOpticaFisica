{
 "cells": [
  {
   "cell_type": "markdown",
   "metadata": {
    "collapsed": false
   },
   "source": [
    "# EXPERIENCIA CASERA 3\n",
    "\n",
    "# Medios anisótropos\n",
    "\n",
    "Para realizar esta experiencia es necesario disponer de dos pequeñas láminas polarizadoras que se pueden comprar en muchos establecimientos. A modo de ejemplo el [siguiente enlace](https://www.amazon.es/s?k=l%C3%A1mina+polarizada&__mk_es_ES=%C3%85M%C3%85%C5%BD%C3%95%C3%91&crid=2DMSIZKOSMDBS&sprefix=l%C3%A1mina+polarizada%2Caps%2C103&ref=nb_sb_noss_1) lleva a la tienda de Amazon donde aparecen diferentes propuestas de láminas polarizadoras. NOTA: Los autores no tienen ninguna relación con Amazon y únicamente se proporciona dicho enlace con el fin de facilitar la búsqueda de las láminas.\n"
   ]
  },
  {
   "cell_type": "markdown",
   "metadata": {
    "collapsed": false
   },
   "source": [
    "## Introducción\n",
    "\n",
    "Los medios materiales se pueden comportar de forma isótropa o anisótropa al paso de la luz. En el primer caso, las propiedades ópticas del medio son las mismas en todas las direcciones del espacio y su índice de refracción es el mismo en todos los puntos del material, mientras que en el segundo caso, el índice de refracción del material es diferente en cada punto del material y varía con la dirección de propagación de la luz dentro de ellos. Los materiales anisótropos denominados birrefringentes se caracterizan por poseer sólo dos índices de refracción diferentes en dos direcciones perpendiculares, \n",
    "por ejemplo $n_x = n_y$ y  $n_z$. Un ejemplo de estos materiales se puede obtener cortando adecuadamente el cristal de calcita. También existen moléculas birrefringentes de por sí, donde la carga se distribuye en forma de elipsoide, como ocurre en la molécula de cristal líquido 5CB.\n",
    "\n",
    "Vemos brevemente qué sucede si sobre una lámina birrefringente incide un haz de radiación que se propaga en la dirección OY y está linealmente polarizado con dirección de vibración del campo eléctrico formando un cierto ángulo $\\theta$ con el eje Z. Podemos descomponer el vector campo eléctrico en sus componentes cartesianas, $E_x$ y $E_z$ . Como el medio anisótropo presenta distintos índices de refracción, $n_x$ y $n_z$, en las direcciones X y Z, una componente \n",
    "se retrasará respecto de la otra, dado que viajan a diferentes velocidades. En esta situación las componentes del campo a la salida estarán desfasadas. \n",
    "El retraso temporal $\\Delta t$ entre ambas componentes será:\n",
    "\n",
    "$$\\Delta t   =  \\frac{e}{v_z} - \\frac{e}{v_x}   =   \\frac{e}{c}  \\; (n_z-n_x) $$\n",
    "\n",
    "siendo $e$ el espesor de la lámina. Este retraso conlleva un corrimiento o desplazamiento espacial entre los campos que se propagan en ambas direcciones $\\Delta y = c \\Delta t$. Por lo tanto, el desfase relativo entre las dos componentes del campo al pasar a través de la lámina será:\n",
    "\n",
    "$$ \\delta = k \\Delta y = \\frac{2 \\pi}{\\lambda} \\; e \\;  (n_z-n_x) $$\n",
    "\n",
    "donde $\\lambda$ es la longitud de onda de la radiación. Si la diferencia de índices $n_z-n_x$ \\(llamada birrefringencia\\) es constante a lo largo de todo el material, éste se comportará como una lámina retardadora, ya que el único efecto que provoca en la luz que pasa a través suya es retrasar una componente respecto de otra, alterando con ello el estado de polarización. En general la luz quedará polarizada elípticamente. Sin embargo, para ciertos valores del desfase, podremos tener luz lineal. \n",
    "\n"
   ]
  },
  {
   "cell_type": "markdown",
   "metadata": {
    "collapsed": false
   },
   "source": [
    "## Efecto de un material birrefringente sobre el estado de polarización de un haz\n",
    "\n",
    "El siguiente vídeo muestra el procedimiento para analizar el efecto que producen ciertos materiales anisótropos sobre la luz linealmente polarizada que incide sobre ellos. Vamos a emplear las dos láminas polarizadoras y las colocaremos de forma que sus ejes de transmisión queden perpendiculares entre sí. Entre ambas láminas polarizadoras introduciremos una lámina de material birrefringente girando lentamente dicha lámina y observando su efecto.\n"
   ]
  },
  {
   "cell_type": "code",
   "execution_count": 1,
   "metadata": {
    "collapsed": false
   },
   "outputs": [
    {
     "data": {
      "text/html": [
       "<video src=\"ExperienciaCasera3A_MediosAnisótropos.mp4\" controls  >\n",
       "      Your browser does not support the <code>video</code> element.\n",
       "    </video>"
      ],
      "text/plain": [
       "<IPython.core.display.Video object>"
      ]
     },
     "execution_count": 1,
     "metadata": {
     },
     "output_type": "execute_result"
    }
   ],
   "source": [
    "from IPython.display import Video\n",
    "Video(\"ExperienciaCasera3A_MediosAnisótropos.mp4\")"
   ]
  },
  {
   "cell_type": "markdown",
   "metadata": {
    "collapsed": false
   },
   "source": [
    "## Localización de las líneas neutras del material birrefringente\n",
    "\n",
    "El siguiente vídeo muestra cómo localizar las dos direcciones privilegiadas perpendiculares entre sí \\(líneas neutras\\) que presenta la cinta adhesiva transparente \\(celo\\), en las cuales los índices de refracción del material son diferentes. \n",
    "Para ello se gira lentamente el trozo de celo y se observa su efecto.\n",
    "\n"
   ]
  },
  {
   "cell_type": "code",
   "execution_count": 2,
   "metadata": {
    "collapsed": false
   },
   "outputs": [
    {
     "data": {
      "text/html": [
       "<video src=\"ExperienciaCasera3B_LíneasNeutras.mp4\" controls  >\n",
       "      Your browser does not support the <code>video</code> element.\n",
       "    </video>"
      ],
      "text/plain": [
       "<IPython.core.display.Video object>"
      ]
     },
     "execution_count": 2,
     "metadata": {
     },
     "output_type": "execute_result"
    }
   ],
   "source": [
    "from IPython.display import Video\n",
    "Video(\"ExperienciaCasera3B_LíneasNeutras.mp4\")"
   ]
  },
  {
   "cell_type": "markdown",
   "metadata": {
    "collapsed": false
   },
   "source": [
    "## Propuesta ampliación de conceptos: Dos trozos de celo cruzados\n",
    "\n",
    "Una vez localizadas las líneas neutras de la lámina retardadora, determinar qué sucede al superponer dos trozos de celo perpendiculares entre sí.\n",
    "Al pegarlos de esta manera las líneas neutras de ambos celos quedarán perpendiculares entre sí.\n",
    "Introducir los dos trozos de celo entre los dos polarizadores cruzados e ir girando los trozos de celo.\n",
    "Así comprobaréis que nunca se ven. ¿Podrías dar una explicación?\n"
   ]
  },
  {
   "cell_type": "markdown",
   "metadata": {
    "collapsed": false
   },
   "source": [
    "## Análisis espectral del desfase provocado por una multicapa de celo\n",
    "\n",
    "Empleamos el espectrómetro casero para analizar el efecto de una multicapa de celo \\(lámina retardadora\\) sobre las distintas longitudes de onda del visible. El siguiente vídeo muestra como realizar el experimento.\n"
   ]
  },
  {
   "cell_type": "code",
   "execution_count": 3,
   "metadata": {
    "collapsed": false
   },
   "outputs": [
    {
     "data": {
      "text/html": [
       "<video src=\"ExperienciaCasera3D_DesfaseMulticapaCelo.mp4\" controls  >\n",
       "      Your browser does not support the <code>video</code> element.\n",
       "    </video>"
      ],
      "text/plain": [
       "<IPython.core.display.Video object>"
      ]
     },
     "execution_count": 3,
     "metadata": {
     },
     "output_type": "execute_result"
    }
   ],
   "source": [
    "from IPython.display import Video\n",
    "Video(\"ExperienciaCasera3D_DesfaseMulticapaCelo.mp4\")"
   ]
  },
  {
   "cell_type": "markdown",
   "metadata": {
    "collapsed": false
   },
   "source": [
    "Podemos usar un valor estimado para la birrefringencia del celo \\(diferencia entre sus dos índices de refracción\\) de 0,007.\n",
    "El espesor de la multicapa de celo depende del número de capas y del grosor del celo que puede depender del tipo de celo. El valor del grosor de cada capa de celo puede\n",
    "oscilar entre 30 y 60 micras. Así estimar teóricamente qué longitudes de onda deberían desaparecer comprobando que están aproximadamente de acuerdo con lo visto en el experimento.\n"
   ]
  },
  {
   "cell_type": "markdown",
   "metadata": {
    "collapsed": false
   },
   "source": [
    "## Crear una composición artística con distintas capas de celo colocadas entre dos polarizadores\n",
    "\n",
    "Al observar capas de celo de distinto grosor entre dos polarizadores cruzados se ven distintos colores ya que el color de la luz transmitida por el sistema será la resultante de sumar los colores que deja pasar el segundo polarizador. Para saber cuál es el color transmitido por el sistema para los distintos espesores\n",
    "de celo, pegamos sobre un portaobjetos distinto número de capas de celo \\(1, 2, 3, 4,…\\) y observamos el color de la luz que sale del sistema a ojo,\n",
    "sin necesidad de usar el espectrómetro. A modo de ejemplo en el siguiente vídeo mostramos un portaobjetos sobre el que hemos pegado una única capa de celo. Para visualizar el color transmitido por el sistema\n",
    "fácilmente se puede emplear como fuente de luz la pantalla del ordenador, poniendo el fondo de pantalla blanco. En este caso no es necesario colocar el primer polarizador\n",
    "pues la pantalla del ordenador emite luz linealmente polarizada vertical. Pegado a la pantalla ponemos el portaobjetos con la capa de celo orientada a  $45^o$ \n",
    "de la dirección de polarización de la luz que sale de la pantalla, como indica el vídeo. Entre el portaobjetos que contiene la capa de celo y el ojo ponemos un polarizador cuyo eje de transmisión vamos rotando. Primero ponemos el eje del polarizador paralelo a las líneas neutras del celo de forma que no observamos ningún color transmitido por el sistema pues la luz que sale del celo está polarizada a lo largo de una de sus líneas neutras. Vamos rotando el polarizador en sentido horario hasta poner su eje de transmisión paralelo a la dirección de polarización de la luz que sale de la pantalla del ordenador y observamos que, donde se encuentra el celo, el sistema transmite el color azul y fuera del celo el sistema transmite toda la radiación. Si ahora giramos el polarizador  $90^o$ \n",
    "en sentido antihorario hasta que su eje de transmisión sea perpendicular a la dirección de polarización de la luz que sale de la pantalla del ordenador, vemos que donde hay celo el color transmitido es el amarillo \\(complementario del color azul\\) y donde no hay celo vemos oscuridad. \n"
   ]
  },
  {
   "cell_type": "code",
   "execution_count": 3,
   "metadata": {
    "collapsed": false
   },
   "outputs": [
    {
     "data": {
      "text/html": [
       "<video src=\"ExperienciaCasera3E_Desfase_1_lamina_celo.mp4\" controls  >\n",
       "      Your browser does not support the <code>video</code> element.\n",
       "    </video>"
      ],
      "text/plain": [
       "<IPython.core.display.Video object>"
      ]
     },
     "execution_count": 3,
     "metadata": {
     },
     "output_type": "execute_result"
    }
   ],
   "source": [
    "from IPython.display import Video\n",
    "Video(\"ExperienciaCasera3E_Desfase_1_lamina_celo.mp4\")"
   ]
  },
  {
   "cell_type": "markdown",
   "metadata": {
    "collapsed": false
   },
   "source": [
    "A continuación, pegamos sobre un portaobjetos distinto número de capas de celo \\(1, 2, 3, 4,…\\) y lo colocamos entre dos polarizadores con sus ejes de transmisión cruzados \\(foto de la izquierda\\) y paralelos \\(foto de la derecha\\).  As podremos disponer de una paleta de colores para realizar nuestra composición artística. Para visualizarlo fácilmente se puede emplear como fuente de luz la pantalla del ordenador tal como hemos mostrado en el vídeo anterior. Entre el portaobjetos que contiene la multicapa de celo y el ojo ponemos un polarizador cuyo eje de transmisión sea perpendicular a la dirección de polarización de la luz que sale de la pantalla del ordenador, es decir, donde no hay celo deberíamos ver oscuridad \n",
    "\\(ver foto de la izquierda\\).  Observamos que al girar el polarizador $90^o$ se ven los colores complementarios \\(ver foto derecha\\). \n",
    "\n",
    "<center>\n",
    "<img src=fotocelos2.png width=700px></img>\n",
    "</center>\n",
    "\n",
    "Teniendo en cuenta lo anterior vamos a crear una composición artística de tema libre con capas de celo de distinto grosor colocado entre dos polarizadores cruzados \\(como en el ejemplo de la foto de la izquierda\\) y paralelos \\(como en el ejemplo de la foto de la derecha\\). \n",
    "\n",
    "<center>\n",
    "<img src=fotocelos3.png width=700px></img>\n",
    "</center>\n",
    "\n"
   ]
  }
 ],
 "metadata": {
  "kernelspec": {
   "argv": [
    "/usr/bin/python3",
    "-m",
    "ipykernel",
    "--HistoryManager.enabled=False",
    "--matplotlib=inline",
    "-c",
    "%config InlineBackend.figure_formats = set(['retina'])\nimport matplotlib; matplotlib.rcParams['figure.figsize'] = (12, 7)",
    "-f",
    "{connection_file}"
   ],
   "display_name": "Python 3 (system-wide)",
   "env": {
   },
   "language": "python",
   "metadata": {
    "cocalc": {
     "description": "Python 3 programming language",
     "priority": 100,
     "url": "https://www.python.org/"
    }
   },
   "name": "python3",
   "resource_dir": "/ext/jupyter/kernels/python3"
  },
  "language_info": {
   "codemirror_mode": {
    "name": "ipython",
    "version": 3
   },
   "file_extension": ".py",
   "mimetype": "text/x-python",
   "name": "python",
   "nbconvert_exporter": "python",
   "pygments_lexer": "ipython3",
   "version": "3.10.12"
  }
 },
 "nbformat": 4,
 "nbformat_minor": 4
}
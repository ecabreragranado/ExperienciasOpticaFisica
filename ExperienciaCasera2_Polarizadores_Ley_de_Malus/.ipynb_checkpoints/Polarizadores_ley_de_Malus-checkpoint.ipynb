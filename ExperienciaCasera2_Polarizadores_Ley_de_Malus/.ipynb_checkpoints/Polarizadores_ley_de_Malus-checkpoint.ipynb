{
 "cells": [
  {
   "cell_type": "markdown",
   "metadata": {
    "collapsed": false
   },
   "source": [
    "# Experiencia casera 2: Polarizadores y Ley de Malus\n",
    "\n",
    "Para realizar esta experiencia es necesario disponer de dos pequeñas láminas polarizadoras que se pueden comprar en muchos establecimientos. Por ejemplo, en el [siguiente enlace](https://www.amazon.es/s?k=l%C3%A1mina+polarizada&__mk_es_ES=%C3%85M%C3%85%C5%BD%C3%95%C3%91&crid=2DMSIZKOSMDBS&sprefix=l%C3%A1mina+polarizada%2Caps%2C103&ref=nb_sb_noss_1) (Nota: Este enlace lleva a la tienda de Amazon con diferentes propuestas de láminas polarizadoras. Los autores no tienen ninguna relación con Amazon y únicamente se proporciona dicho enlace con el fin de facilitar la búsqueda de las láminas.)\n",
    "\n",
    "\n",
    "\n",
    "\n"
   ]
  },
  {
   "cell_type": "markdown",
   "metadata": {
    "collapsed": false
   },
   "source": [
    "## Introducción\n",
    "\n",
    "Las ondas electromagnéticas planas son ondas vectoriales transversales: el campo eléctrico\n",
    "de la onda oscila contenido en un plano perpendicular a la dirección de propagación de la misma.\n",
    "Sin embargo, la dirección del campo en este plano puede mantenerse fija o cambiar. En general,\n",
    "las fuentes de luz producen luz despolarizada. Ello significa que la dirección del campo eléctrico E\n",
    " ~\n",
    "cambia al azar de un instante a otro, tal como se indica en la figura 1(a), donde se han dibujado\n",
    "algunos vectores orientados al azar en diferentes instantes de tiempo. La luz proveniente del sol, o\n",
    "la que producen las bombillas de incandescencia o los fluorescentes, está despolarizada.\n",
    "\n",
    "\n",
    "<img src=\".Polarizadores_ley_de_Malus.ipynb.upload/paste-0.18964571241733863\" style=\"max-width:100%\" />\n",
    "\n",
    "Se puede conseguir que el campo eléctrico de la onda mantenga una dirección fija en un plano.\n",
    "En este caso se dice que el haz de luz está linealmente polarizado. Existen diversas maneras de\n",
    "conseguir esto, y una de ellas consiste en hacer pasar un haz de luz despolarizado a través de un\n",
    "material especial que denominamos polarizador lineal. Este material transmite la componente del\n",
    "campo eléctrico de la onda que vibra paralelamente a una dirección privilegiada del material, que\n",
    "se denomina eje de transmisión del polarizador, y absorber el campo que vibra en la dirección\n",
    "perpendicular a dicho eje. Por tanto a la **salida del polarizador** tendremos luz **linealmente\n",
    "polarizada en la dirección del eje de transmisión del polarizador**.\n",
    "En la figura 1(b) se muestra un ejemplo, supongamos que el campo eléctrico $\\vec{E_0}$\n",
    " del haz incidente forma un ángulo $\\theta$ con la vertical y que el material polarizador tiene su eje de transmisión en la\n",
    "dirección vertical. El material polarizador solo dejará pasar la proyección del campo incidente en\n",
    "la dirección del eje del polarizador, esto es, $E_0 \\cos(\\theta)$. Y por tanto la irradiancia a la salida del\n",
    "polarizador será:\n",
    "\n",
    "$$I = I_0 \\cos^2(\\theta)$$\n",
    "\n",
    "donde $I_0$ es la irradiancia del haz que incide sobre el material polarizador. Esta expresión es\n",
    "conocida como la **ley de Malus**, que proporciona el grado de atenuación del haz emergente de un\n",
    "polarizador.\n",
    "\n",
    "Si aplicamos esta idea al caso de un haz incidente despolarizado, el vector eléctrico $\\vec{E_0}$\n",
    " formará un ángulo $\\theta(t)$ con el eje que irá cambiando al azar. Por lo tanto, en la irradiancia del haz transmitido\n",
    "tendremos que promediar todos los posibles valores que tomará el coseno al cuadrado del ángulo.\n",
    "Dicho promedio es 1/2, es decir, la irradiancia transmitida resulta ser $I = I_0 /2$.\n",
    "\n",
    "Teniendo en cuenta lo anterior, podemos establecer un procedimiento para atenuar un haz de\n",
    "luz despolarizada empleando sucesivamente dos polarizadores: el primero de ellos permite atenuar\n",
    "la irradiancia en un factor 1/2 y si colocamos un segundo polarizador con su eje formando un cierto\n",
    "ángulo con el eje del primero, podemos variar a voluntad la irradiancia transmitida por el sistema\n",
    "formado por los dos polarizadores. Ası́ obtenemos entonces un filtro de atenuación variable sin más\n",
    "que cambiar el ángulo relativo entre los ejes de transmisión de los dos polarizadores.\n"
   ]
  },
  {
   "cell_type": "markdown",
   "metadata": {
    "collapsed": false
   },
   "source": [
    "## Análisis de polarizadores y Ley de Malus\n",
    "\n",
    "El siguiente vídeo muestra el procedimiento para analizar el efecto en la luz de una lámina polarizadora así como para comprobar en casa la ley de Malus anteriormente expuesta. Para ello, además de las dos pequeñas láminas, será necesario disponer de:\n",
    "\n",
    "* Un transportador de ángulos o similar. En el [siguiente documento](plantilla_angulos.pdf) se facilita una plantilla igual que la que se presenta en el vídeo para poder ser impresa y realizar la experiencia.\n",
    "* Una aplicación para el móvil que nos permita acceder a los valores que mide el sensor de luz. Hay muchas aplicaciones y cualquiera es válida. Para android, dos ejemplos podrían ser [Phyphox](https://play.google.com/store/apps/details?id=de.rwth_aachen.phyphox) o [Light Meter Pro](https://play.google.com/store/apps/details?id=com.doggoapps.luxlight) (Nota: Estos enlaces se proporcionan únicamente como ejemplos de aplicaciones para realizar la experiencia casera. Los autores de este documento no tienen ningún tipo de relación con ellas)."
   ]
  },
  {
   "cell_type": "code",
   "execution_count": 0,
   "metadata": {
    "collapsed": false
   },
   "outputs": [
   ],
   "source": [
    "from IPython.display import Video\n",
    "Video(\"ExperienciaCasera2_polarizadores.mp4\")"
   ]
  }
 ],
 "metadata": {
  "kernelspec": {
   "display_name": "Python 3 (system-wide)",
   "language": "python",
   "metadata": {
    "cocalc": {
     "description": "Python 3 programming language",
     "priority": 100,
     "url": "https://www.python.org/"
    }
   },
   "name": "python3",
   "resource_dir": "/ext/jupyter/kernels/python3"
  }
 },
 "nbformat": 4,
 "nbformat_minor": 4
}